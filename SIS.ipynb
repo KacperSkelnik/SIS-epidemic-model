{
 "cells": [
  {
   "cell_type": "code",
   "execution_count": null,
   "metadata": {},
   "outputs": [],
   "source": [
    "import numpy as np\n",
    "import pandas as pd\n",
    "import networkx as nx\n",
    "import math\n",
    "import random\n",
    "from random import randrange\n",
    "import matplotlib.pyplot as plt\n",
    "import pickle"
   ]
  },
  {
   "cell_type": "code",
   "execution_count": null,
   "metadata": {},
   "outputs": [],
   "source": [
    "class Graphs():\n",
    "    def __init__(self, random_seed = 12345):\n",
    "        random.seed(random_seed)\n",
    "        \n",
    "        self.G = nx.Graph()\n",
    "        \n",
    "        self.N = 0\n",
    "        self.m = 0\n",
    "        self.m0 = 0\n",
    "        self.p = 0\n",
    "\n",
    "        \n",
    "    def barabasi_albert(self, n_new):\n",
    "        # tworze liste prawdopodobienstw tego, że nowy wierzchołek dołączy się do starego\n",
    "        n_edges = self.G.number_of_edges()\n",
    "        n_nodes = len(self.G.nodes())\n",
    "        p = np.zeros(n_nodes)\n",
    "        \n",
    "        for i,n in enumerate(self.G.nodes()):\n",
    "            p[i] = len(self.G.edges(n))/n_edges\n",
    "\n",
    "        p = p/p.sum()\n",
    "        \n",
    "        # wybieram m wierzchołków (bez zwracania) z listy wszystkich \n",
    "        # wierzchołkow z policzonym wcześniej prawdopodobienstwem\n",
    "        n_old = np.random.choice(range(n_nodes), p=p, size=self.m, replace=False)\n",
    "        \n",
    "        # dodaje \n",
    "        for n_o in n_old:\n",
    "            self.G.add_edge(n_new, n_o)\n",
    "            \n",
    "    \n",
    "    def barabasi_albert_matrix(self):\n",
    "        '''nieudana próba optymalizacji'''\n",
    "        adjMatrix = np.zeros((self.N,self.N))\n",
    "        \n",
    "        for i in range(self.m0):\n",
    "            for j in range(self.m0):\n",
    "                adjMatrix[i][j] = 1\n",
    "                adjMatrix[j][i] = 1\n",
    "                \n",
    "            adjMatrix[i][i] = 0\n",
    "        \n",
    "        \n",
    "        for i in range(self.m0+1,self.N):\n",
    "            p = np.zeros(i)\n",
    "            \n",
    "            for i_p in range(0,i):\n",
    "                p[i_p] = 2*adjMatrix[i_p].sum()/adjMatrix.sum()\n",
    "            \n",
    "            p = p/p.sum()\n",
    "            \n",
    "            n_old = np.random.choice(range(i), p=p, size=self.m, replace=False)\n",
    "            \n",
    "            for n in n_old:\n",
    "                adjMatrix[i][n] = 1\n",
    "                adjMatrix[n][i] = 1\n",
    "                \n",
    "        self.G = nx.from_numpy_matrix(adjMatrix)\n",
    "        \n",
    "        return self.G\n",
    "            \n",
    "            \n",
    "    def erdos_renyi(self):\n",
    "        adjMatrix = np.zeros((self.N,self.N))\n",
    "        \n",
    "        for i in range(0, self.N):\n",
    "            for j in range(0, i):\n",
    "                if random.uniform(0, 1) <= self.p:\n",
    "                    adjMatrix[i][j] = 1\n",
    "                    adjMatrix[j][i] = 1\n",
    "    \n",
    "        self.G = nx.from_numpy_matrix(adjMatrix)\n",
    "\n",
    "        \n",
    "    def create(self, graph, N=0, m=0, m0=0, k_mean=0):\n",
    "        valid = {'barabasi_albert', 'erdos_renyi'}\n",
    "        if graph not in valid:\n",
    "            raise ValueError(\"results: graph must be one of %r.\" % valid)\n",
    "        \n",
    "        \n",
    "        if graph == 'barabasi_albert':\n",
    "            self.N = N\n",
    "            self.m = m\n",
    "            self.m0 = m0\n",
    "            \n",
    "            #self.barabasi_albert_matrix()\n",
    "            \n",
    "            self.G = nx.complete_graph(self.m0)\n",
    "            for i in range(0, self.N):\n",
    "                self.barabasi_albert(i)\n",
    "                \n",
    "        if graph == 'erdos_renyi':\n",
    "            self.N = N\n",
    "            self.p = k_mean/(N-1)\n",
    "            \n",
    "            self.erdos_renyi()\n",
    "                \n",
    "        return self.G"
   ]
  },
  {
   "cell_type": "code",
   "execution_count": null,
   "metadata": {},
   "outputs": [],
   "source": [
    "class Model():\n",
    "    def __init__(self, Graph, a, b, R, n_iter):\n",
    "        self.G = Graph\n",
    "        self.G_size = len(self.G.nodes())\n",
    "        self.a = a\n",
    "        self.b = b\n",
    "        self.R = R\n",
    "        self.n_iter = n_iter\n",
    "        \n",
    "        self.N_ill = []\n",
    "        \n",
    "        \n",
    "    def initial_state(self):\n",
    "        attrs = {}\n",
    "        for n in self.G.nodes():\n",
    "            attrs[n] = {\"state\": 0}\n",
    "        \n",
    "        nx.set_node_attributes(self.G, attrs)\n",
    "        \n",
    "    \n",
    "    def patients_zero_generate(self):\n",
    "        patients_zero = np.random.choice(list(self.G.nodes()), size=self.R, replace=False)\n",
    "        \n",
    "        attrs = {}\n",
    "        for n in patients_zero:\n",
    "            attrs[n] = {\"state\": 1}\n",
    "        \n",
    "        nx.set_node_attributes(self.G, attrs)\n",
    "            \n",
    "    def simulate(self):\n",
    "        self.initial_state()\n",
    "        self.patients_zero_generate()\n",
    "        \n",
    "        for i in range(self.n_iter):\n",
    "            r_node = randrange(self.G_size)\n",
    "            \n",
    "            if self.G.nodes[r_node]['state'] == 1:\n",
    "                if random.uniform(0, 1) <= self.a:\n",
    "                    self.G.nodes[r_node][\"state\"] = 0\n",
    "                else:\n",
    "                    pass\n",
    "            \n",
    "            if self.G.nodes[r_node]['state'] == 0:\n",
    "                r_node_neighbors = [n for n in self.G[r_node]]\n",
    "                try:\n",
    "                    \"\"\"neighbor = np.random.choice(r_node_neighbors, size=1)[0]\n",
    "                \n",
    "                    if self.G.nodes[neighbor]['state'] == 1:\n",
    "                        if random.uniform(0, 1) <= self.b:\n",
    "                            self.G.nodes[r_node][\"state\"] = 1\n",
    "                        else:\n",
    "                            pass\n",
    "                    else:\n",
    "                        pass\"\"\"\n",
    "                    for n in r_node_neighbors:\n",
    "                        if self.G.nodes[n]['state'] == 1:\n",
    "                            if random.uniform(0, 1) <= self.b:\n",
    "                                self.G.nodes[r_node][\"state\"] = 1\n",
    "                        else:\n",
    "                            pass\n",
    "                    else:\n",
    "                        pass\n",
    "                except:\n",
    "                    pass\n",
    "                \n",
    "            N1 = len([x for x,y in self.G.nodes(data=True) if y['state']==1])\n",
    "            self.N_ill.append(N1)"
   ]
  },
  {
   "cell_type": "code",
   "execution_count": null,
   "metadata": {},
   "outputs": [],
   "source": [
    "G = Graphs()"
   ]
  },
  {
   "cell_type": "code",
   "execution_count": null,
   "metadata": {},
   "outputs": [],
   "source": [
    "barabasi_albert=G.create('barabasi_albert', N=10000, m=2, m0=2)"
   ]
  },
  {
   "cell_type": "code",
   "execution_count": null,
   "metadata": {},
   "outputs": [],
   "source": [
    "erdos_renyi=G.create('erdos_renyi', N=10000, k_mean=4)"
   ]
  },
  {
   "cell_type": "markdown",
   "metadata": {},
   "source": [
    "# Wartości teoretyczne b/a"
   ]
  },
  {
   "cell_type": "code",
   "execution_count": null,
   "metadata": {},
   "outputs": [],
   "source": [
    "lambda_c_ER = 1/4"
   ]
  },
  {
   "cell_type": "code",
   "execution_count": null,
   "metadata": {},
   "outputs": [],
   "source": [
    "lambda_c_ER"
   ]
  },
  {
   "cell_type": "code",
   "execution_count": null,
   "metadata": {},
   "outputs": [],
   "source": [
    "lambda_c_BA = 2/(2*np.log(10000))"
   ]
  },
  {
   "cell_type": "code",
   "execution_count": null,
   "metadata": {},
   "outputs": [],
   "source": [
    "lambda_c_BA"
   ]
  },
  {
   "cell_type": "markdown",
   "metadata": {},
   "source": [
    "# Symulacje"
   ]
  },
  {
   "cell_type": "markdown",
   "metadata": {},
   "source": [
    "## N(R)"
   ]
  },
  {
   "cell_type": "markdown",
   "metadata": {},
   "source": [
    "#### lambda > lambda_c"
   ]
  },
  {
   "cell_type": "code",
   "execution_count": null,
   "metadata": {},
   "outputs": [],
   "source": [
    "R = [50, 100, 1000, 5000, 9000]\n",
    "\n",
    "sim_ER = []\n",
    "#sim_BA = []\n",
    "\n",
    "for r in R:\n",
    "    model_ER = Model(Graph=erdos_renyi, a=0.4, b=0.2, R=r, n_iter=300000)\n",
    "    model_ER.simulate()\n",
    "    sim_ER.append(model_ER.N_ill)\n",
    "    \n",
    "    #model_BA = Model(Graph=barabasi_albert, a=0.4, b=0.2, R=r, n_iter=200000)\n",
    "    #model_BA.simulate()\n",
    "    #sim_BA.append(model_BA.N_ill)\n",
    "    \n",
    "    print(r)"
   ]
  },
  {
   "cell_type": "code",
   "execution_count": null,
   "metadata": {},
   "outputs": [],
   "source": [
    "with open('sim_ER_v2.pkl', 'wb') as f:\n",
    "    pickle.dump(sim_ER, f)\n",
    "    \n",
    "with open('sim_BA_v2.pkl', 'wb') as f:\n",
    "    pickle.dump(sim_BA, f)"
   ]
  },
  {
   "cell_type": "code",
   "execution_count": null,
   "metadata": {},
   "outputs": [],
   "source": [
    "with open('sim_ER_v2.pkl', 'rb') as f:\n",
    "    sim_ER = pickle.load(f)\n",
    "    \n",
    "with open('sim_BA_v2.pkl', 'rb') as f:\n",
    "    sim_BA = pickle.load(f)"
   ]
  },
  {
   "cell_type": "markdown",
   "metadata": {},
   "source": [
    "#### lambda < lambda_c"
   ]
  },
  {
   "cell_type": "code",
   "execution_count": null,
   "metadata": {},
   "outputs": [],
   "source": [
    "R = [50, 100, 1000, 5000, 9000]\n",
    "\n",
    "sim_ER_2 = []\n",
    "sim_BA_2 = []\n",
    "\n",
    "for r in R:\n",
    "    model_ER = Model(Graph=erdos_renyi, a=0.7, b=0.1, R=r, n_iter=1000000)\n",
    "    model_ER.simulate()\n",
    "    sim_ER_2.append(model_ER.N_ill)\n",
    "    \n",
    "    model_BA = Model(Graph=barabasi_albert, a=0.7, b=0.05, R=r, n_iter=1000000)\n",
    "    model_BA.simulate()\n",
    "    sim_BA_2.append(model_BA.N_ill)\n",
    "    \n",
    "    print(r)"
   ]
  },
  {
   "cell_type": "code",
   "execution_count": null,
   "metadata": {},
   "outputs": [],
   "source": [
    "with open('sim_ER_2.pkl', 'wb') as f:\n",
    "    pickle.dump(sim_ER_2, f)\n",
    "    \n",
    "with open('sim_BA_2.pkl', 'wb') as f:\n",
    "    pickle.dump(sim_BA_2, f)"
   ]
  },
  {
   "cell_type": "code",
   "execution_count": null,
   "metadata": {},
   "outputs": [],
   "source": [
    "with open('sim_ER_2.pkl', 'rb') as f:\n",
    "    sim_ER_2 = pickle.load(f)\n",
    "    \n",
    "with open('sim_BA_2.pkl', 'rb') as f:\n",
    "    sim_BA_2 = pickle.load(f)"
   ]
  },
  {
   "cell_type": "markdown",
   "metadata": {},
   "source": [
    "### N(lambda)"
   ]
  },
  {
   "cell_type": "code",
   "execution_count": null,
   "metadata": {},
   "outputs": [],
   "source": [
    "ba = [(0.02, 0.7), (0.05, 0.7), (0.06, 0.7), (0.07, 0.7), (0.08, 0.7), (0.09, 0.7), (0.1, 0.7), \n",
    "      (0.11, 0.7), (0.12, 0.7), (0.13, 0.7), (0.14, 0.7), (0.15, 0.7), (0.16, 0.7),\n",
    "      (0.17, 0.7), (0.18, 0.7), (0.19, 0.7), (0.20, 0.7), (0.21, 0.7), (0.22, 0.7), \n",
    "      (0.23, 0.7), (0.24, 0.7), (0.03, 0.7), (0.04, 0.7)]"
   ]
  },
  {
   "cell_type": "code",
   "execution_count": null,
   "metadata": {},
   "outputs": [],
   "source": [
    "sim_ER_3 = []\n",
    "sim_BA_3 = []\n",
    "\n",
    "for i in ba2:\n",
    "    model_ER = Model(Graph=erdos_renyi, a=i[1], b=i[0], R=1000, n_iter=200000)\n",
    "    model_ER.simulate()\n",
    "    sim_ER_3.append(model_ER.N_ill)\n",
    "    \n",
    "    model_BA = Model(Graph=barabasi_albert, a=i[1], b=i[0], R=1000, n_iter=200000)\n",
    "    model_BA.simulate()\n",
    "    sim_BA_3.append(model_BA.N_ill)\n",
    "    \n",
    "    print(i[0]/i[1])"
   ]
  },
  {
   "cell_type": "code",
   "execution_count": null,
   "metadata": {},
   "outputs": [],
   "source": [
    "sim_ER_3_final = [i[-1] for i in sim_ER_3]\n",
    "\n",
    "sim_BA_3_final = [i[-1] for i in sim_BA_3]"
   ]
  },
  {
   "cell_type": "code",
   "execution_count": null,
   "metadata": {},
   "outputs": [],
   "source": [
    "with open('sim_ER_3_final.pkl', 'wb') as f:\n",
    "    pickle.dump(sim_ER_3_final, f)\n",
    "    \n",
    "with open('sim_BA_3_final.pkl', 'wb') as f:\n",
    "    pickle.dump(sim_BA_3_final, f)"
   ]
  },
  {
   "cell_type": "code",
   "execution_count": null,
   "metadata": {},
   "outputs": [],
   "source": [
    "with open('sim_ER_3_final.pkl', 'rb') as f:\n",
    "    sim_ER_3_final = pickle.load(f)\n",
    "    \n",
    "with open('sim_BA_3_final.pkl', 'rb') as f:\n",
    "    sim_BA_3_final = pickle.load(f)"
   ]
  },
  {
   "cell_type": "markdown",
   "metadata": {},
   "source": [
    "# Wizualizacja wyników"
   ]
  },
  {
   "cell_type": "code",
   "execution_count": null,
   "metadata": {
    "scrolled": false
   },
   "outputs": [],
   "source": [
    "plt.figure(figsize=(14,7))\n",
    "plt.plot(np.array(sim_ER[0])[:300000]/10000, linewidth=3, label=\"R = 50\")\n",
    "plt.plot(np.array(sim_ER[1])[:300000]/10000, linewidth=3, label=\"R = 100\")\n",
    "plt.plot(np.array(sim_ER[2])[:300000]/10000, linewidth=3, label=\"R = 1000\")\n",
    "plt.plot(np.array(sim_ER[3])[:300000]/10000, linewidth=3, label=\"R = 5000\")\n",
    "plt.plot(np.array(sim_ER[4])[:300000]/10000, linewidth=3, label=\"R = 9000\")\n",
    "plt.xlabel('t', size=25)\n",
    "plt.ylabel('$\\\\frac{N_1}{N}$', size=25, rotation=0, labelpad=15)\n",
    "plt.ylim([0,1])\n",
    "plt.title('SIS dla grafu Erdős–Rényi, $\\lambda = 0.5$', size=30)\n",
    "plt.tick_params(axis='both', which='major', labelsize=16)\n",
    "plt.legend(loc=4, prop={'size': 20})\n",
    "\n",
    "plt.plot([-10000,310000],[0.5,0.5], '--', c='r')\n",
    "plt.xlim([-10000,310000])\n",
    "\n",
    "plt.savefig('ER_05.svg')\n",
    "plt.show()"
   ]
  },
  {
   "cell_type": "code",
   "execution_count": null,
   "metadata": {
    "scrolled": false
   },
   "outputs": [],
   "source": [
    "plt.figure(figsize=(14,7))\n",
    "plt.plot(np.array(sim_BA[0])[:200000]/10000, linewidth=3, label=\"R = 50\")\n",
    "plt.plot(np.array(sim_BA[1])[:200000]/10000, linewidth=3, label=\"R = 100\")\n",
    "plt.plot(np.array(sim_BA[2])[:200000]/10000, linewidth=3, label=\"R = 1000\")\n",
    "plt.plot(np.array(sim_BA[3])[:200000]/10000, linewidth=3, label=\"R = 5000\")\n",
    "plt.plot(np.array(sim_BA[4])[:200000]/10000, linewidth=3, label=\"R = 9000\")\n",
    "plt.ylim((0,1))\n",
    "plt.xlabel('t', size=25)\n",
    "plt.ylabel('$\\\\frac{N_{1}}{N}$', size=25, rotation=0, labelpad=15)\n",
    "plt.title('SIS dla grafu Barabási–Albert, $\\lambda = 0.5$', size=30)\n",
    "plt.tick_params(axis='both', which='major', labelsize=16)\n",
    "plt.legend(loc=4, prop={'size': 20})\n",
    "\n",
    "plt.plot([-10000,210000],[0.5,0.5], '--', c='r')\n",
    "plt.xlim([-10000,210000])\n",
    "\n",
    "plt.savefig('BA_05.svg')\n",
    "plt.show()"
   ]
  },
  {
   "cell_type": "code",
   "execution_count": null,
   "metadata": {},
   "outputs": [],
   "source": [
    "plt.figure(figsize=(14,7))\n",
    "plt.plot(np.array(sim_ER_2[0])[:200000]/10000, linewidth=3, label=\"R = 50\")\n",
    "plt.plot(np.array(sim_ER_2[1])[:200000]/10000, linewidth=3, label=\"R = 100\")\n",
    "plt.plot(np.array(sim_ER_2[2])[:200000]/10000, linewidth=3, label=\"R = 1000\")\n",
    "plt.plot(np.array(sim_ER_2[3])[:200000]/10000, linewidth=3, label=\"R = 5000\")\n",
    "plt.plot(np.array(sim_ER_2[4])[:200000]/10000, linewidth=3, label=\"R = 9000\")\n",
    "plt.ylim((0,1))\n",
    "plt.xlabel('t', size=25)\n",
    "plt.ylabel('$\\\\frac{N_{1}}{N}$', size=25, rotation=0, labelpad=15)\n",
    "plt.title('SIS dla grafu Erdős–Rényi, $\\lambda \\\\approx 0.14$', size=30)\n",
    "plt.tick_params(axis='both', which='major', labelsize=16)\n",
    "plt.legend(loc=1, prop={'size': 20})\n",
    "\n",
    "plt.savefig('ER_014.svg')\n",
    "plt.show()"
   ]
  },
  {
   "cell_type": "code",
   "execution_count": null,
   "metadata": {},
   "outputs": [],
   "source": [
    "plt.figure(figsize=(14,7))\n",
    "plt.plot(np.array(sim_BA_2[0])[:200000]/10000, linewidth=3, label=\"R = 50\")\n",
    "plt.plot(np.array(sim_BA_2[1])[:200000]/10000, linewidth=3, label=\"R = 100\")\n",
    "plt.plot(np.array(sim_BA_2[2])[:200000]/10000, linewidth=3, label=\"R = 1000\")\n",
    "plt.plot(np.array(sim_BA_2[3])[:200000]/10000, linewidth=3, label=\"R = 5000\")\n",
    "plt.plot(np.array(sim_BA_2[4])[:200000]/10000, linewidth=3, label=\"R = 9000\")\n",
    "plt.ylim((0,1))\n",
    "plt.xlabel('t', size=25)\n",
    "plt.ylabel('$\\\\frac{N_{1}}{N}$', size=25, rotation=0, labelpad=15)\n",
    "plt.title('SIS dla grafu Barabási–Albert, $\\lambda \\\\approx 0.07$', size=30)\n",
    "plt.tick_params(axis='both', which='major', labelsize=16)\n",
    "plt.legend(loc=1, prop={'size': 20})\n",
    "\n",
    "plt.savefig('BA_007.svg')\n",
    "plt.show()"
   ]
  },
  {
   "cell_type": "code",
   "execution_count": null,
   "metadata": {},
   "outputs": [],
   "source": [
    "x = [i[0]/i[1] for i in ba]"
   ]
  },
  {
   "cell_type": "code",
   "execution_count": null,
   "metadata": {},
   "outputs": [],
   "source": [
    "plt.figure(figsize=(14,7))\n",
    "plt.scatter(x,np.array(sim_ER_3_final)/10000)\n",
    "plt.xlabel('$\\lambda$', size=25)\n",
    "plt.ylabel('$\\\\frac{N_{1}}{N}$', size=25, rotation=0, labelpad=15)\n",
    "plt.title('SIS dla grafu Erdős–Rényi, w zależności od $\\lambda$', size=30)\n",
    "plt.tick_params(axis='both', which='major', labelsize=16)\n",
    "\n",
    "plt.plot([0.25,0.25],[-1,1], '--', c='r')\n",
    "plt.plot([0.20714285714285718,0.20714285714285718],[-1,1], '--', c='b')\n",
    "plt.ylim([-0.05,0.5])\n",
    "\n",
    "plt.savefig('ER_lam.svg')\n",
    "plt.show()"
   ]
  },
  {
   "cell_type": "code",
   "execution_count": null,
   "metadata": {},
   "outputs": [],
   "source": [
    "plt.figure(figsize=(14,7))\n",
    "plt.scatter(x,np.array(sim_BA_3_final)/10000)\n",
    "plt.xlabel('$\\lambda$', size=25)\n",
    "plt.ylabel('$\\\\frac{N_{1}}{N}$', size=25, rotation=0, labelpad=15)\n",
    "plt.title('SIS dla grafu Barabási–Albert, w zależności od $\\lambda$', size=30)\n",
    "plt.tick_params(axis='both', which='major', labelsize=16)\n",
    "\n",
    "plt.plot([2/(2*np.log(10000)),2/(2*np.log(10000))],[-1,1], '--', c='r')\n",
    "plt.plot([(0.10000000000000002+0.08571428571428572)/2,(0.10000000000000002+0.08571428571428572)/2],[-1,1], '--', c='b')\n",
    "plt.ylim([-0.05,0.5])\n",
    "\n",
    "plt.savefig('BA_lam.svg')\n",
    "plt.show()"
   ]
  },
  {
   "cell_type": "code",
   "execution_count": null,
   "metadata": {},
   "outputs": [],
   "source": []
  }
 ],
 "metadata": {
  "kernelspec": {
   "display_name": "Python 3",
   "language": "python",
   "name": "python3"
  },
  "language_info": {
   "codemirror_mode": {
    "name": "ipython",
    "version": 3
   },
   "file_extension": ".py",
   "mimetype": "text/x-python",
   "name": "python",
   "nbconvert_exporter": "python",
   "pygments_lexer": "ipython3",
   "version": "3.8.3"
  }
 },
 "nbformat": 4,
 "nbformat_minor": 4
}
